{
 "cells": [
  {
   "cell_type": "code",
   "execution_count": 1,
   "metadata": {},
   "outputs": [
    {
     "data": {
      "text/html": [
       "\n",
       "<script src=\"https://stackpath.bootstrapcdn.com/bootstrap/4.3.1/js/bootstrap.min.js\" integrity=\"sha384-JjSmVgyd0p3pXB1rRibZUAYoIIy6OrQ6VrjIEaFf/nJGzIxFDsf4x0xIM+B07jRM\" crossorigin=\"anonymous\"></script>\n",
       "\n",
       "<style>\n",
       "\n",
       "@import url(https://fonts.googleapis.com/css?family=Open+Sans);body{\n",
       "   font-family: 'Open Sans';\n",
       "   font-size: 125%;\n",
       "}\n",
       "\n",
       ".talk_title\n",
       "{\n",
       "  color: #498AF3;\n",
       "  font-size: 275%;\n",
       "  font-weight:bold;\n",
       "  line-height: 1.3; \n",
       "  margin: 10px 50px 10px;\n",
       "  }\n",
       "\n",
       ".subtitle\n",
       "{\n",
       "  color: #386BBC;\n",
       "  font-size: 180%;\n",
       "  font-weight:bold;\n",
       "  line-height: 1.2; \n",
       "  margin: 20px 50px 20px;\n",
       "  }\n",
       "\n",
       ".rendered_html h1\n",
       "{\n",
       "  color: #498AF3;\n",
       "  line-height: 1.2; \n",
       "  margin: 0.15em 0em 0.5em;\n",
       "  page-break-before: always;\n",
       "  text-align: center;\n",
       "  }\n",
       "\n",
       "\n",
       ".center\n",
       "{\n",
       "  text-align: center;\n",
       "  }\n",
       "\n",
       ".nb_link\n",
       "{\n",
       "    padding-bottom: 0.5em;\n",
       "}\n",
       "\n",
       "</style>"
      ],
      "text/plain": [
       "<IPython.core.display.HTML object>"
      ]
     },
     "metadata": {},
     "output_type": "display_data"
    }
   ],
   "source": [
    "%run ../talktools.py"
   ]
  },
  {
   "cell_type": "markdown",
   "metadata": {},
   "source": [
    "# Meeting/Lecture 11 - November 30, 2022\n",
    "\n",
    "## Agenda for today\n",
    "\n",
    "* Introduction (this notebook, *00_lecture_org*)\n",
    "\n",
    "* Course Evals\n",
    "   \n",
    "* Lab 3 Checkpoint 2 discussion\n",
    "\n",
    "* Visualization and optimization\n",
    "\n",
    "* Class recap\n",
    " \n"
   ]
  },
  {
   "cell_type": "markdown",
   "metadata": {},
   "source": [
    "## Some check 2 discusison topics\n",
    "\n",
    "<!--\n",
    "* How far did you try to push image downsizing? What strategies did you try (cropping, rotating, resampling, ...)?\n",
    "* How well did your generator work?  How quickly could you read in an image?  What batch sizes did you try?\n",
    "* For the sample model (#14), what was your RSME?\n",
    "* What kind of network architecture did you try?  How did it perform?\n",
    "-->\n",
    "\n",
    "* CNN syntax\n",
    "    * How to choose which layers/how many\n",
    "    * Trouble getting dimensions to match (especially with hidden layers)\n",
    "* Activation\n",
    "    * Do we want sigmoid activation on all the layers or just the last one?\n",
    "* Loss\n",
    "    * Is a final loss of ~0.1 reasonable (no one got lower than this)\n",
    "    * Validation loss always starts lower or is always lower than the training loss, why is this the case?\n",
    "    * How do you incorporate the RMSE loss into the NN?\n",
    "    * How do you compute the loss function for each epoch when training the model in batches?\n",
    "* Misc\n",
    "    * How do you save weights in between runs?\n",
    "    * How does the adam optimizer work and how does it take in the gradients to figure out its next step?"
   ]
  },
  {
   "cell_type": "code",
   "execution_count": null,
   "metadata": {},
   "outputs": [],
   "source": []
  }
 ],
 "metadata": {
  "kernelspec": {
   "display_name": "Python 3 (ipykernel)",
   "language": "python",
   "name": "python3"
  },
  "language_info": {
   "codemirror_mode": {
    "name": "ipython",
    "version": 3
   },
   "file_extension": ".py",
   "mimetype": "text/x-python",
   "name": "python",
   "nbconvert_exporter": "python",
   "pygments_lexer": "ipython3",
   "version": "3.10.6"
  }
 },
 "nbformat": 4,
 "nbformat_minor": 4
}
