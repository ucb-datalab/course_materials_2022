{
 "cells": [
  {
   "cell_type": "code",
   "execution_count": null,
   "id": "activated-spokesman",
   "metadata": {
    "tags": []
   },
   "outputs": [],
   "source": [
    "%run ../talktools.py"
   ]
  },
  {
   "cell_type": "markdown",
   "id": "hairy-style",
   "metadata": {},
   "source": [
    "# Monitoring and Optimization of NNs\n",
    "\n",
    "(UCB Datalab AY 128/256; 2021)\n",
    "\n",
    "We have thus far built network architectures and trained them using guesses for the architecture and using default learning parameters. Watching the outputs and introspection of the training curves is somewhat cumbersome. What if we want to do a lot of experiments and assemble the results in one place?\n",
    "\n",
    "Recall in previous notebooks we used a callback to store results in logfiles that can be visualized by `Tensorboard` (https://www.tensorflow.org/tensorboard):\n",
    "\n",
    "```python\n",
    "tensorboard_callback = tf.keras.callbacks.TensorBoard(logdir, histogram_freq=1)\n",
    "...\n",
    "model.fit(...\n",
    "          callbacks=[tensorboard_callback,...])\n",
    "```\n",
    "\n",
    "Let's look at the results in tensorboard. First install a Jupyter extension (`jupyter-tensorboard`):\n",
    "\n",
    "```bash\n",
    "$ pip install git+https://github.com/lspvic/jupyter_tensorboard.git@refs/pull/63/head\n",
    "```\n",
    "\n",
    "(You can use Tensorboard outside of Jupyter but downloading the log directories and running tensorboard directly; it's difficult to get it working in datahub.berkeley.edu unfortunately)"
   ]
  },
  {
   "cell_type": "markdown",
   "id": "dominant-thought",
   "metadata": {},
   "source": [
    "We already have logfiles that tensorboard can see:\n",
    "\n",
    "<img src=\"data/tb.png\">"
   ]
  },
  {
   "cell_type": "markdown",
   "id": "endangered-perry",
   "metadata": {},
   "source": [
    "Let's watch the progression in realtime:"
   ]
  },
  {
   "cell_type": "code",
   "execution_count": 6,
   "id": "entitled-campbell",
   "metadata": {},
   "outputs": [],
   "source": [
    "import datetime\n",
    "import warnings\n",
    "import tensorflow as tf\n",
    "\n",
    "warnings.simplefilter(action='ignore', category=FutureWarning)\n",
    "\n",
    "fashion_mnist = tf.keras.datasets.fashion_mnist\n",
    "\n",
    "(x_train, y_train),(x_test, y_test) = fashion_mnist.load_data()\n",
    "x_train, x_test = x_train / 255.0, x_test / 255.0\n",
    "\n",
    "def create_model():\n",
    "    return tf.keras.models.Sequential([\n",
    "        tf.keras.layers.Flatten(input_shape=(28, 28)),\n",
    "        tf.keras.layers.Dense(512, activation='relu'),\n",
    "        tf.keras.layers.Dropout(0.2),\n",
    "        tf.keras.layers.Dense(10, activation='softmax')\n",
    "    ])"
   ]
  },
  {
   "cell_type": "code",
   "execution_count": 4,
   "id": "handed-focus",
   "metadata": {},
   "outputs": [
    {
     "name": "stdout",
     "output_type": "stream",
     "text": [
      "WARNING:tensorflow:From /Users/jbloom/miniconda3/lib/python3.7/site-packages/tensorflow/python/ops/init_ops.py:1251: calling VarianceScaling.__init__ (from tensorflow.python.ops.init_ops) with dtype is deprecated and will be removed in a future version.\n",
      "Instructions for updating:\n",
      "Call initializer instance with the dtype argument instead of passing it to the constructor\n",
      "Train on 60000 samples, validate on 10000 samples\n",
      "Epoch 1/10\n",
      "60000/60000 [==============================] - 19s 313us/sample - loss: 0.4931 - acc: 0.8233 - val_loss: 0.4242 - val_acc: 0.8495\n",
      "Epoch 2/10\n",
      "60000/60000 [==============================] - 20s 336us/sample - loss: 0.3815 - acc: 0.8589 - val_loss: 0.4234 - val_acc: 0.8487\n",
      "Epoch 3/10\n",
      "60000/60000 [==============================] - 22s 367us/sample - loss: 0.3484 - acc: 0.8711 - val_loss: 0.4205 - val_acc: 0.8487\n",
      "Epoch 4/10\n",
      "60000/60000 [==============================] - 19s 319us/sample - loss: 0.3292 - acc: 0.8790 - val_loss: 0.3604 - val_acc: 0.8719\n",
      "Epoch 5/10\n",
      "60000/60000 [==============================] - 21s 349us/sample - loss: 0.3125 - acc: 0.8836 - val_loss: 0.3563 - val_acc: 0.8684\n",
      "Epoch 6/10\n",
      "60000/60000 [==============================] - 17s 288us/sample - loss: 0.3003 - acc: 0.8879 - val_loss: 0.3438 - val_acc: 0.8760\n",
      "Epoch 7/10\n",
      "60000/60000 [==============================] - 22s 369us/sample - loss: 0.2882 - acc: 0.8929 - val_loss: 0.3460 - val_acc: 0.8760\n",
      "Epoch 8/10\n",
      "60000/60000 [==============================] - 23s 388us/sample - loss: 0.2775 - acc: 0.8963 - val_loss: 0.3299 - val_acc: 0.8822\n",
      "Epoch 9/10\n",
      "60000/60000 [==============================] - 18s 308us/sample - loss: 0.2720 - acc: 0.8984 - val_loss: 0.3479 - val_acc: 0.8782\n",
      "Epoch 10/10\n",
      "60000/60000 [==============================] - 16s 263us/sample - loss: 0.2627 - acc: 0.9009 - val_loss: 0.3256 - val_acc: 0.8845\n"
     ]
    },
    {
     "data": {
      "text/plain": [
       "<tensorflow.python.keras.callbacks.History at 0x7f97dc2b0810>"
      ]
     },
     "execution_count": 4,
     "metadata": {},
     "output_type": "execute_result"
    }
   ],
   "source": [
    "model = create_model()\n",
    "model.compile(optimizer='adam',\n",
    "              loss='sparse_categorical_crossentropy',\n",
    "              metrics=['accuracy'])\n",
    "\n",
    "log_dir = \"logs/fit/\" + datetime.datetime.now().strftime(\"%Y%m%d-%H%M%S\")\n",
    "tensorboard_callback = tf.keras.callbacks.TensorBoard(log_dir=log_dir, histogram_freq=1)\n",
    "\n",
    "model.fit(x=x_train, \n",
    "          y=y_train, \n",
    "          epochs=10, \n",
    "          validation_data=(x_test, y_test), \n",
    "          callbacks=[tensorboard_callback])"
   ]
  },
  {
   "cell_type": "markdown",
   "id": "black-principal",
   "metadata": {},
   "source": [
    "We can also use external services to capture training data, resource allocation, and more.\n",
    "\n",
    "<img src=\"https://camo.githubusercontent.com/dd842f7b0be57140e68b2ab9cb007992acd131c48284eaf6b1aca758bfea358b/68747470733a2f2f692e696d6775722e636f6d2f52557469567a482e706e67\">\n",
    "\n",
    "\"Use W&B to build better models faster. Track and visualize all the pieces of your machine learning pipeline, from datasets to production models.\""
   ]
  },
  {
   "cell_type": "code",
   "execution_count": 8,
   "id": "damaged-escape",
   "metadata": {},
   "outputs": [],
   "source": [
    "#!pip install wandb"
   ]
  },
  {
   "cell_type": "code",
   "execution_count": 14,
   "id": "greater-louisville",
   "metadata": {},
   "outputs": [
    {
     "name": "stderr",
     "output_type": "stream",
     "text": [
      "\u001b[34m\u001b[1mwandb\u001b[0m: You can find your API key in your browser here: https://wandb.ai/authorize\n"
     ]
    },
    {
     "name": "stdout",
     "output_type": "stream",
     "text": [
      "wandb: Paste an API key from your profile and hit enter: ········\n"
     ]
    },
    {
     "name": "stderr",
     "output_type": "stream",
     "text": [
      "\u001b[34m\u001b[1mwandb\u001b[0m: Appending key for api.wandb.ai to your netrc file: /Users/jbloom/.netrc\n"
     ]
    },
    {
     "data": {
      "text/plain": [
       "True"
      ]
     },
     "execution_count": 14,
     "metadata": {},
     "output_type": "execute_result"
    }
   ],
   "source": [
    "import wandb\n",
    "wandb.login()"
   ]
  },
  {
   "cell_type": "code",
   "execution_count": 18,
   "id": "special-dressing",
   "metadata": {},
   "outputs": [
    {
     "data": {
      "text/html": [
       "Finishing last run (ID:xtjnnatx) before initializing another..."
      ],
      "text/plain": [
       "<IPython.core.display.HTML object>"
      ]
     },
     "metadata": {},
     "output_type": "display_data"
    },
    {
     "data": {
      "text/html": [
       "<br/>Waiting for W&B process to finish, PID 76500<br/>Program ended successfully."
      ],
      "text/plain": [
       "<IPython.core.display.HTML object>"
      ]
     },
     "metadata": {},
     "output_type": "display_data"
    },
    {
     "data": {
      "application/vnd.jupyter.widget-view+json": {
       "model_id": "",
       "version_major": 2,
       "version_minor": 0
      },
      "text/plain": [
       "VBox(children=(Label(value=' 4.69MB of 4.69MB uploaded (0.00MB deduped)\\r'), FloatProgress(value=1.0, max=1.0)…"
      ]
     },
     "metadata": {},
     "output_type": "display_data"
    },
    {
     "data": {
      "text/html": [
       "Find user logs for this run at: <code>/Users/jbloom/Classes/ay256/course-materials_2021/Lectures/Lecture11_optimization/wandb/run-20210426_133132-xtjnnatx/logs/debug.log</code>"
      ],
      "text/plain": [
       "<IPython.core.display.HTML object>"
      ]
     },
     "metadata": {},
     "output_type": "display_data"
    },
    {
     "data": {
      "text/html": [
       "Find internal logs for this run at: <code>/Users/jbloom/Classes/ay256/course-materials_2021/Lectures/Lecture11_optimization/wandb/run-20210426_133132-xtjnnatx/logs/debug-internal.log</code>"
      ],
      "text/plain": [
       "<IPython.core.display.HTML object>"
      ]
     },
     "metadata": {},
     "output_type": "display_data"
    },
    {
     "data": {
      "text/html": [
       "<h3>Run summary:</h3><br/><style>\n",
       "    table.wandb td:nth-child(1) { padding: 0 10px; text-align: right }\n",
       "    </style><table class=\"wandb\">\n",
       "<tr><td>epoch</td><td>9</td></tr><tr><td>loss</td><td>0.49933</td></tr><tr><td>acc</td><td>0.82202</td></tr><tr><td>val_loss</td><td>0.45825</td></tr><tr><td>val_acc</td><td>0.8473</td></tr><tr><td>_runtime</td><td>123</td></tr><tr><td>_timestamp</td><td>1619469215</td></tr><tr><td>_step</td><td>9</td></tr><tr><td>best_val_loss</td><td>0.45825</td></tr><tr><td>best_epoch</td><td>9</td></tr></table>"
      ],
      "text/plain": [
       "<IPython.core.display.HTML object>"
      ]
     },
     "metadata": {},
     "output_type": "display_data"
    },
    {
     "data": {
      "text/html": [
       "<h3>Run history:</h3><br/><style>\n",
       "    table.wandb td:nth-child(1) { padding: 0 10px; text-align: right }\n",
       "    </style><table class=\"wandb\">\n",
       "<tr><td>epoch</td><td>▁▂▃▃▄▅▆▆▇█</td></tr><tr><td>loss</td><td>█▄▃▃▂▂▁▂▁▁</td></tr><tr><td>acc</td><td>▁▅▆▆▇▇▇▇██</td></tr><tr><td>val_loss</td><td>▆▅▅▄█▅▃▅▃▁</td></tr><tr><td>val_acc</td><td>▂▄▄▄▁▄▅▃▆█</td></tr><tr><td>_runtime</td><td>▁▂▃▄▄▅▆▇▇█</td></tr><tr><td>_timestamp</td><td>▁▂▃▄▄▅▆▇▇█</td></tr><tr><td>_step</td><td>▁▂▃▃▄▅▆▆▇█</td></tr></table><br/>"
      ],
      "text/plain": [
       "<IPython.core.display.HTML object>"
      ]
     },
     "metadata": {},
     "output_type": "display_data"
    },
    {
     "data": {
      "text/html": [
       "Synced 6 W&B file(s), 1 media file(s), 0 artifact file(s) and 1 other file(s)"
      ],
      "text/plain": [
       "<IPython.core.display.HTML object>"
      ]
     },
     "metadata": {},
     "output_type": "display_data"
    },
    {
     "data": {
      "text/html": [
       "\n",
       "                    <br/>Synced <strong style=\"color:#cdcd00\">flowing-hill-1</strong>: <a href=\"https://wandb.ai/profjsb/ucb-datalab-2021/runs/xtjnnatx\" target=\"_blank\">https://wandb.ai/profjsb/ucb-datalab-2021/runs/xtjnnatx</a><br/>\n",
       "                "
      ],
      "text/plain": [
       "<IPython.core.display.HTML object>"
      ]
     },
     "metadata": {},
     "output_type": "display_data"
    },
    {
     "data": {
      "text/html": [
       "...Successfully finished last run (ID:xtjnnatx). Initializing new run:<br/><br/>"
      ],
      "text/plain": [
       "<IPython.core.display.HTML object>"
      ]
     },
     "metadata": {},
     "output_type": "display_data"
    },
    {
     "data": {
      "text/html": [
       "\n",
       "                Tracking run with wandb version 0.10.27<br/>\n",
       "                Syncing run <strong style=\"color:#cdcd00\">blooming-cosmos-2</strong> to <a href=\"https://wandb.ai\" target=\"_blank\">Weights & Biases</a> <a href=\"https://docs.wandb.com/integrations/jupyter.html\" target=\"_blank\">(Documentation)</a>.<br/>\n",
       "                Project page: <a href=\"https://wandb.ai/profjsb/ucb-datalab-2021\" target=\"_blank\">https://wandb.ai/profjsb/ucb-datalab-2021</a><br/>\n",
       "                Run page: <a href=\"https://wandb.ai/profjsb/ucb-datalab-2021/runs/20ra0ubu\" target=\"_blank\">https://wandb.ai/profjsb/ucb-datalab-2021/runs/20ra0ubu</a><br/>\n",
       "                Run data is saved locally in <code>/Users/jbloom/Classes/ay256/course-materials_2021/Lectures/Lecture11_optimization/wandb/run-20210426_143358-20ra0ubu</code><br/><br/>\n",
       "            "
      ],
      "text/plain": [
       "<IPython.core.display.HTML object>"
      ]
     },
     "metadata": {},
     "output_type": "display_data"
    }
   ],
   "source": [
    "from wandb.keras import WandbCallback\n",
    "\n",
    "# Step1: Initialize W&B run\n",
    "run = wandb.init(project='ucb-datalab-2021', entity='profjsb')\n",
    "\n",
    "# 2. Save model inputs and hyperparameters\n",
    "config = wandb.config\n",
    "config.learning_rate = 0.01"
   ]
  },
  {
   "cell_type": "code",
   "execution_count": 17,
   "id": "unlike-detection",
   "metadata": {},
   "outputs": [
    {
     "name": "stdout",
     "output_type": "stream",
     "text": [
      "Train on 60000 samples, validate on 10000 samples\n",
      "Epoch 1/10\n",
      "60000/60000 [==============================] - 12s 208us/sample - loss: 0.6522 - acc: 0.7758 - val_loss: 0.5357 - val_acc: 0.8135\n",
      "Epoch 2/10\n",
      "60000/60000 [==============================] - 7s 122us/sample - loss: 0.5583 - acc: 0.8026 - val_loss: 0.5211 - val_acc: 0.8248\n",
      "Epoch 3/10\n",
      "60000/60000 [==============================] - 11s 182us/sample - loss: 0.5463 - acc: 0.8067 - val_loss: 0.5136 - val_acc: 0.8261\n",
      "Epoch 4/10\n",
      "60000/60000 [==============================] - 7s 114us/sample - loss: 0.5355 - acc: 0.8099 - val_loss: 0.5029 - val_acc: 0.8235\n",
      "Epoch 5/10\n",
      "60000/60000 [==============================] - 6s 97us/sample - loss: 0.5267 - acc: 0.8143 - val_loss: 0.5599 - val_acc: 0.8055\n",
      "Epoch 6/10\n",
      "60000/60000 [==============================] - 9s 152us/sample - loss: 0.5170 - acc: 0.8166 - val_loss: 0.5122 - val_acc: 0.8262\n",
      "Epoch 7/10\n",
      "60000/60000 [==============================] - 6s 104us/sample - loss: 0.5084 - acc: 0.8192 - val_loss: 0.4838 - val_acc: 0.8283\n",
      "Epoch 8/10\n",
      "60000/60000 [==============================] - 8s 139us/sample - loss: 0.5120 - acc: 0.8195 - val_loss: 0.5215 - val_acc: 0.8155\n",
      "Epoch 9/10\n",
      "60000/60000 [==============================] - 7s 118us/sample - loss: 0.4982 - acc: 0.8238 - val_loss: 0.4862 - val_acc: 0.8337\n",
      "Epoch 10/10\n",
      "60000/60000 [==============================] - 7s 122us/sample - loss: 0.4993 - acc: 0.8220 - val_loss: 0.4582 - val_acc: 0.8473\n"
     ]
    },
    {
     "data": {
      "text/plain": [
       "<tensorflow.python.keras.callbacks.History at 0x7f97e18b6d50>"
      ]
     },
     "execution_count": 17,
     "metadata": {},
     "output_type": "execute_result"
    }
   ],
   "source": [
    "model = create_model()\n",
    "\n",
    "opt = tf.keras.optimizers.Adam(learning_rate=config.learning_rate)\n",
    "model.compile(optimizer=opt,\n",
    "              loss='sparse_categorical_crossentropy',\n",
    "              metrics=['accuracy'])\n",
    "\n",
    "# 3. Log layer dimensions and metrics over time\n",
    "model.fit(x=x_train, \n",
    "          y=y_train, \n",
    "          epochs=10, \n",
    "          validation_data=(x_test, y_test),\n",
    "          callbacks=[WandbCallback()])"
   ]
  },
  {
   "cell_type": "code",
   "execution_count": 19,
   "id": "grand-depth",
   "metadata": {},
   "outputs": [
    {
     "data": {
      "text/html": [
       "<br/>Waiting for W&B process to finish, PID 77856<br/>Program ended successfully."
      ],
      "text/plain": [
       "<IPython.core.display.HTML object>"
      ]
     },
     "metadata": {},
     "output_type": "display_data"
    },
    {
     "data": {
      "application/vnd.jupyter.widget-view+json": {
       "model_id": "",
       "version_major": 2,
       "version_minor": 0
      },
      "text/plain": [
       "VBox(children=(Label(value=' 0.00MB of 0.00MB uploaded (0.00MB deduped)\\r'), FloatProgress(value=1.0, max=1.0)…"
      ]
     },
     "metadata": {},
     "output_type": "display_data"
    },
    {
     "data": {
      "text/html": [
       "Find user logs for this run at: <code>/Users/jbloom/Classes/ay256/course-materials_2021/Lectures/Lecture11_optimization/wandb/run-20210426_143358-20ra0ubu/logs/debug.log</code>"
      ],
      "text/plain": [
       "<IPython.core.display.HTML object>"
      ]
     },
     "metadata": {},
     "output_type": "display_data"
    },
    {
     "data": {
      "text/html": [
       "Find internal logs for this run at: <code>/Users/jbloom/Classes/ay256/course-materials_2021/Lectures/Lecture11_optimization/wandb/run-20210426_143358-20ra0ubu/logs/debug-internal.log</code>"
      ],
      "text/plain": [
       "<IPython.core.display.HTML object>"
      ]
     },
     "metadata": {},
     "output_type": "display_data"
    },
    {
     "data": {
      "text/html": [
       "Synced 5 W&B file(s), 0 media file(s), 0 artifact file(s) and 0 other file(s)"
      ],
      "text/plain": [
       "<IPython.core.display.HTML object>"
      ]
     },
     "metadata": {},
     "output_type": "display_data"
    },
    {
     "data": {
      "text/html": [
       "\n",
       "                    <br/>Synced <strong style=\"color:#cdcd00\">blooming-cosmos-2</strong>: <a href=\"https://wandb.ai/profjsb/ucb-datalab-2021/runs/20ra0ubu\" target=\"_blank\">https://wandb.ai/profjsb/ucb-datalab-2021/runs/20ra0ubu</a><br/>\n",
       "                "
      ],
      "text/plain": [
       "<IPython.core.display.HTML object>"
      ]
     },
     "metadata": {},
     "output_type": "display_data"
    }
   ],
   "source": [
    "run.finish()"
   ]
  },
  {
   "cell_type": "code",
   "execution_count": null,
   "id": "vietnamese-martin",
   "metadata": {},
   "outputs": [],
   "source": []
  }
 ],
 "metadata": {
  "kernelspec": {
   "display_name": "Python 3 (ipykernel)",
   "language": "python",
   "name": "python3"
  },
  "language_info": {
   "codemirror_mode": {
    "name": "ipython",
    "version": 3
   },
   "file_extension": ".py",
   "mimetype": "text/x-python",
   "name": "python",
   "nbconvert_exporter": "python",
   "pygments_lexer": "ipython3",
   "version": "3.10.6"
  }
 },
 "nbformat": 4,
 "nbformat_minor": 5
}
