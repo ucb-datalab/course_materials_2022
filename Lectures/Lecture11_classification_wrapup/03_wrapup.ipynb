{
 "cells": [
  {
   "cell_type": "code",
   "execution_count": 3,
   "metadata": {},
   "outputs": [
    {
     "data": {
      "text/html": [
       "\n",
       "<script src=\"https://stackpath.bootstrapcdn.com/bootstrap/4.3.1/js/bootstrap.min.js\" integrity=\"sha384-JjSmVgyd0p3pXB1rRibZUAYoIIy6OrQ6VrjIEaFf/nJGzIxFDsf4x0xIM+B07jRM\" crossorigin=\"anonymous\"></script>\n",
       "\n",
       "<style>\n",
       "\n",
       "@import url(https://fonts.googleapis.com/css?family=Open+Sans);body{\n",
       "   font-family: 'Open Sans';\n",
       "   font-size: 125%;\n",
       "}\n",
       "\n",
       ".talk_title\n",
       "{\n",
       "  color: #498AF3;\n",
       "  font-size: 275%;\n",
       "  font-weight:bold;\n",
       "  line-height: 1.3; \n",
       "  margin: 10px 50px 10px;\n",
       "  }\n",
       "\n",
       ".subtitle\n",
       "{\n",
       "  color: #386BBC;\n",
       "  font-size: 180%;\n",
       "  font-weight:bold;\n",
       "  line-height: 1.2; \n",
       "  margin: 20px 50px 20px;\n",
       "  }\n",
       "\n",
       ".rendered_html h1\n",
       "{\n",
       "  color: #498AF3;\n",
       "  line-height: 1.2; \n",
       "  margin: 0.15em 0em 0.5em;\n",
       "  page-break-before: always;\n",
       "  text-align: center;\n",
       "  }\n",
       "\n",
       "\n",
       ".center\n",
       "{\n",
       "  text-align: center;\n",
       "  }\n",
       "\n",
       ".nb_link\n",
       "{\n",
       "    padding-bottom: 0.5em;\n",
       "}\n",
       "\n",
       "</style>"
      ],
      "text/plain": [
       "<IPython.core.display.HTML object>"
      ]
     },
     "metadata": {},
     "output_type": "display_data"
    }
   ],
   "source": [
    "%run ../talktools.py"
   ]
  },
  {
   "cell_type": "markdown",
   "metadata": {},
   "source": [
    "# Lab 0\n",
    "\n",
    "## Introduction to ADQL and Gaia Data\n",
    "\n",
    "* Databases & SQL\n",
    "* Data visualization\n",
    "* Cluster-finding\n",
    "* Stellar models"
   ]
  },
  {
   "cell_type": "markdown",
   "metadata": {},
   "source": [
    "# Lab 1\n",
    "\n",
    "## Gaia, RR Lyrae stars, and Galactic Dust\n",
    "\n",
    "* Time series data\n",
    "* Periodograms\n",
    "* Fourier decomposition\n",
    "* Databases; SQL\n",
    "* Python web queries\n",
    "* Linear and nonlinear optimization\n",
    "* Markov chain Monte Carlo\n",
    "* Bayesian modeling\n",
    "* Data visualization\n",
    "* Stellar physics\n",
    "* Dust\n",
    "* Galactic Structure"
   ]
  },
  {
   "cell_type": "markdown",
   "metadata": {},
   "source": [
    "# Lab 2\n",
    "\n",
    "## Modeling Stellar Spectra\n",
    "\n",
    "* Data munging and standardization\n",
    "* Outlier rejection; removing bad data\n",
    "* Linear models\n",
    "* Cross validation\n",
    "* Nonlinear optimization, MCMC\n",
    "* Making movies\n",
    "* Neural networks\n",
    "* Basics of stellar evolution\n",
    "* Continumum normalization\n",
    "* Stellar chemistry"
   ]
  },
  {
   "cell_type": "markdown",
   "metadata": {},
   "source": [
    "# Lab 3\n",
    "## Galaxy image classification and the galaxy merger rate\n",
    "\n",
    "* Correlation & covariance\n",
    "* Image classification\n",
    "* Decision trees\n",
    "* Convolutional neural networks\n",
    "* Overfitting & regularization\n",
    "* Memory management\n",
    "* Data augmentation\n",
    "* Basics of galactic astronomy and cosmology"
   ]
  }
 ],
 "metadata": {
  "kernelspec": {
   "display_name": "Python 3 (ipykernel)",
   "language": "python",
   "name": "python3"
  },
  "language_info": {
   "codemirror_mode": {
    "name": "ipython",
    "version": 3
   },
   "file_extension": ".py",
   "mimetype": "text/x-python",
   "name": "python",
   "nbconvert_exporter": "python",
   "pygments_lexer": "ipython3",
   "version": "3.10.6"
  }
 },
 "nbformat": 4,
 "nbformat_minor": 4
}
