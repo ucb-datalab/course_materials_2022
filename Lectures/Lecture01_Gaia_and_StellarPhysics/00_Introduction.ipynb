{
 "cells": [
  {
   "cell_type": "code",
   "execution_count": 1,
   "metadata": {},
   "outputs": [
    {
     "data": {
      "text/html": [
       "\n",
       "<script src=\"https://stackpath.bootstrapcdn.com/bootstrap/4.3.1/js/bootstrap.min.js\" integrity=\"sha384-JjSmVgyd0p3pXB1rRibZUAYoIIy6OrQ6VrjIEaFf/nJGzIxFDsf4x0xIM+B07jRM\" crossorigin=\"anonymous\"></script>\n",
       "\n",
       "<style>\n",
       "\n",
       "@import url(https://fonts.googleapis.com/css?family=Open+Sans);body{\n",
       "   font-family: 'Open Sans';\n",
       "   font-size: 125%;\n",
       "}\n",
       "\n",
       ".talk_title\n",
       "{\n",
       "  color: #498AF3;\n",
       "  font-size: 275%;\n",
       "  font-weight:bold;\n",
       "  line-height: 1.3; \n",
       "  margin: 10px 50px 10px;\n",
       "  }\n",
       "\n",
       ".subtitle\n",
       "{\n",
       "  color: #386BBC;\n",
       "  font-size: 180%;\n",
       "  font-weight:bold;\n",
       "  line-height: 1.2; \n",
       "  margin: 20px 50px 20px;\n",
       "  }\n",
       "\n",
       ".rendered_html h1\n",
       "{\n",
       "  color: #498AF3;\n",
       "  line-height: 1.2; \n",
       "  margin: 0.15em 0em 0.5em;\n",
       "  page-break-before: always;\n",
       "  text-align: center;\n",
       "  }\n",
       "\n",
       "\n",
       ".center\n",
       "{\n",
       "  text-align: center;\n",
       "  }\n",
       "\n",
       ".nb_link\n",
       "{\n",
       "    padding-bottom: 0.5em;\n",
       "}\n",
       "\n",
       "</style>"
      ],
      "text/plain": [
       "<IPython.core.display.HTML object>"
      ]
     },
     "metadata": {},
     "output_type": "display_data"
    }
   ],
   "source": [
    "%run ../talktools.py"
   ]
  },
  {
   "cell_type": "markdown",
   "metadata": {},
   "source": [
    "# Meeting/Lecture 1 - Aug 29, 2022\n",
    "\n",
    "\n",
    "\n",
    "## Agenda for today\n",
    "\n",
    "* Office Hours\n",
    " - Jessica/Aaron Wednesday 4-5 pm\n",
    " - Natasha Monday 5-6 pm\n",
    " - Jingshu Monday 6-7 pm\n",
    " - by appointment\n",
    " - Communications on Ed Discussion\n",
    " \n",
    "* Introduction (this notebook, *00_Introduction*)\n",
    "\n",
    "* Metaskills & Objectives\n",
    " - Invest in new skills and tools while getting things done\n",
    " - Fail fast and fail smart\n",
    " - Develop your workflow (modules, interfaces, unit tests, code revision, reproducability, organization)\n",
    " - Pair methods with physical insight and statistical rigor\n",
    " \n",
    "\n",
    "* Caching (*02_caching* from Lecture 0)\n",
    "\n",
    "* Gaia (*01_Gaia*)\n",
    "\n",
    "* Stellar Physics Review (*02_HR*)\n",
    "\n",
    "* Preparing for Lab 0, Checkpoint 1 submission at midnight\n",
    "\n",
    "* Lab \\#0 progress discussion using breakout rooms\n",
    "\n",
    "   * Report out by group\n",
    "\n",
    "* A little break\n",
    "\n",
    "* Office Hours"
   ]
  },
  {
   "cell_type": "code",
   "execution_count": null,
   "metadata": {},
   "outputs": [],
   "source": []
  }
 ],
 "metadata": {
  "kernelspec": {
   "display_name": "Python 3",
   "language": "python",
   "name": "python3"
  },
  "language_info": {
   "codemirror_mode": {
    "name": "ipython",
    "version": 3
   },
   "file_extension": ".py",
   "mimetype": "text/x-python",
   "name": "python",
   "nbconvert_exporter": "python",
   "pygments_lexer": "ipython3",
   "version": "3.8.10"
  }
 },
 "nbformat": 4,
 "nbformat_minor": 4
}
