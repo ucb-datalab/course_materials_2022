{
 "cells": [
  {
   "cell_type": "code",
   "execution_count": 1,
   "metadata": {},
   "outputs": [
    {
     "data": {
      "text/html": [
       "\n",
       "<script src=\"https://stackpath.bootstrapcdn.com/bootstrap/4.3.1/js/bootstrap.min.js\" integrity=\"sha384-JjSmVgyd0p3pXB1rRibZUAYoIIy6OrQ6VrjIEaFf/nJGzIxFDsf4x0xIM+B07jRM\" crossorigin=\"anonymous\"></script>\n",
       "\n",
       "<style>\n",
       "\n",
       "@import url(https://fonts.googleapis.com/css?family=Open+Sans);body{\n",
       "   font-family: 'Open Sans';\n",
       "   font-size: 125%;\n",
       "}\n",
       "\n",
       ".talk_title\n",
       "{\n",
       "  color: #498AF3;\n",
       "  font-size: 275%;\n",
       "  font-weight:bold;\n",
       "  line-height: 1.3; \n",
       "  margin: 10px 50px 10px;\n",
       "  }\n",
       "\n",
       ".subtitle\n",
       "{\n",
       "  color: #386BBC;\n",
       "  font-size: 180%;\n",
       "  font-weight:bold;\n",
       "  line-height: 1.2; \n",
       "  margin: 20px 50px 20px;\n",
       "  }\n",
       "\n",
       ".rendered_html h1\n",
       "{\n",
       "  color: #498AF3;\n",
       "  line-height: 1.2; \n",
       "  margin: 0.15em 0em 0.5em;\n",
       "  page-break-before: always;\n",
       "  text-align: center;\n",
       "  }\n",
       "\n",
       "\n",
       ".center\n",
       "{\n",
       "  text-align: center;\n",
       "  }\n",
       "\n",
       ".nb_link\n",
       "{\n",
       "    padding-bottom: 0.5em;\n",
       "}\n",
       "\n",
       "</style>"
      ],
      "text/plain": [
       "<IPython.core.display.HTML object>"
      ]
     },
     "metadata": {},
     "output_type": "display_data"
    }
   ],
   "source": [
    "%run ../talktools.py"
   ]
  },
  {
   "cell_type": "markdown",
   "metadata": {},
   "source": [
    "# Week 3 - Sep 12 and 14, 2022\n",
    "\n",
    "## Agenda for today\n",
    "\n",
    "* Introduction (this notebook, *00_lecture_org*)\n",
    "\n",
    "* Review of how Lab 0 went, lessons for next time (start early, plan ahead, work toward the report)\n",
    "\n",
    "* Variable Stars (*01_variable_stars*)\n",
    "\n",
    "* Intro to periodograms (*02_periodograms*)\n",
    "\n",
    "* A little break\n",
    "\n",
    "* Intro to Bayes (*03_Bayes*)\n",
    "\n",
    "* (if time) Markov Chain Monte Carlo (MCMC; *04_MCMC*)\n"
   ]
  },
  {
   "cell_type": "markdown",
   "metadata": {},
   "source": [
    "## Lab \\#1 Introduction\n",
    "\n",
    "\"Gaia, RR Lyrae stars and Galactic Dust\" (https://github.com/ucb-datalab/course_materials_2022/blob/main/labs/2022_AY128_Lab1_rrlyrae_dust.pdf).\n",
    "\n",
    "Check point due Mon Sep 19 at midnight."
   ]
  },
  {
   "cell_type": "markdown",
   "metadata": {},
   "source": [
    "### Small Aside: Cross Validation\n",
    "\n",
    "In Lab 1, we ask you to learn the optimal (hyper)parameter of a fit via **cross validation (CV)**. \n",
    "\n",
    "* K-fold CV - randomly split the training data into K \"folds.\" For each $k=1,...,K$, train model only on the data not in fold $k$ & predict for data in fold $k$. Compute performance metric over CV predictions.\n",
    "\n",
    "* Leave-one-out (LOO) CV -- n-fold CV with n = number of training points.\n",
    "\n",
    "\n",
    "<img src=\"https://scikit-learn.org/stable/_images/grid_search_cross_validation.png\" width=\"50%\">\n",
    "\n",
    "In Lab 1, you'll do a single fold with 80% in the training set and 20% in the test set. Later on in the course, we'll revisit CV with more complex folding.\n",
    "\n",
    "cf. [sklearn cross-validation](https://scikit-learn.org/stable/modules/cross_validation.html)\n",
    "\n"
   ]
  }
 ],
 "metadata": {
  "history": [
   {
    "code": "%run ../talktools.py",
    "id": "70212349014b4fcd8352bf102a0c70bf",
    "idx": 0,
    "time": "2021-02-08T21:16:15.247Z",
    "type": "execution"
   },
   {
    "id": "70212349014b4fcd8352bf102a0c70bf",
    "time": "2021-02-08T21:16:15.375Z",
    "type": "completion"
   }
  ],
  "kernelspec": {
   "display_name": "Python 3 (ipykernel)",
   "language": "python",
   "name": "python3"
  },
  "language_info": {
   "codemirror_mode": {
    "name": "ipython",
    "version": 3
   },
   "file_extension": ".py",
   "mimetype": "text/x-python",
   "name": "python",
   "nbconvert_exporter": "python",
   "pygments_lexer": "ipython3",
   "version": "3.9.9"
  }
 },
 "nbformat": 4,
 "nbformat_minor": 4
}
