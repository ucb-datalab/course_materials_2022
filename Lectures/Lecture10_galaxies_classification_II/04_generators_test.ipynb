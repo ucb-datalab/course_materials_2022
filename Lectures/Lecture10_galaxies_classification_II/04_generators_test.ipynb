{
 "cells": [
  {
   "cell_type": "markdown",
   "id": "8ef946b4-6367-40f1-a9c7-0fa22ed62f07",
   "metadata": {},
   "source": [
    "# Python Generators\n",
    "\n",
    "Walking through examples from \n",
    "https://realpython.com/introduction-to-python-generators/"
   ]
  },
  {
   "cell_type": "code",
   "execution_count": 4,
   "id": "b15dc384-4fcd-4f56-b316-fd13f79a1748",
   "metadata": {},
   "outputs": [
    {
     "name": "stdout",
     "output_type": "stream",
     "text": [
      "range(0, 5)\n"
     ]
    },
    {
     "data": {
      "text/plain": [
       "[0, 1, 2, 3, 4]"
      ]
     },
     "execution_count": 4,
     "metadata": {},
     "output_type": "execute_result"
    }
   ],
   "source": [
    "a = range(5)\n",
    "print(a)\n",
    "list(a)"
   ]
  },
  {
   "cell_type": "code",
   "execution_count": 5,
   "id": "23f76736-b598-4945-9039-e9c76f7ed7c5",
   "metadata": {},
   "outputs": [],
   "source": [
    "def infinite_sequence():\n",
    "    num = 0\n",
    "    while True:\n",
    "        yield num\n",
    "        num += 1"
   ]
  },
  {
   "cell_type": "code",
   "execution_count": 7,
   "id": "7b5d68ed-7b54-4f46-bf0a-4ac32a10a9cd",
   "metadata": {},
   "outputs": [],
   "source": [
    "y = infinite_sequence()"
   ]
  },
  {
   "cell_type": "code",
   "execution_count": 8,
   "id": "85ffbfb3-721b-422a-abf9-ac83f30cee61",
   "metadata": {},
   "outputs": [
    {
     "data": {
      "text/plain": [
       "0"
      ]
     },
     "execution_count": 8,
     "metadata": {},
     "output_type": "execute_result"
    }
   ],
   "source": [
    "next(y)"
   ]
  },
  {
   "cell_type": "code",
   "execution_count": 9,
   "id": "f0223b9e-985d-4d1d-a56e-adb3f8c50cc5",
   "metadata": {},
   "outputs": [
    {
     "data": {
      "text/plain": [
       "1"
      ]
     },
     "execution_count": 9,
     "metadata": {},
     "output_type": "execute_result"
    }
   ],
   "source": [
    "next(y)"
   ]
  },
  {
   "cell_type": "code",
   "execution_count": 15,
   "id": "2fb1b40b-90e9-445a-a667-cad67f1d4c5c",
   "metadata": {},
   "outputs": [
    {
     "name": "stdout",
     "output_type": "stream",
     "text": [
      "202 203 204 205 206 207 208 209 210 211 212 213 214 215 216 217 218 219 220 221 222 223 224 225 226 227 228 229 230 231 232 233 234 235 236 237 238 239 240 241 242 243 244 245 246 247 248 249 250 251 "
     ]
    }
   ],
   "source": [
    "for i in range(50):\n",
    "    print(next(y), end=\" \")"
   ]
  },
  {
   "cell_type": "code",
   "execution_count": 17,
   "id": "55a5bd22-3340-4fb3-a99f-43a56f4e0f16",
   "metadata": {},
   "outputs": [
    {
     "data": {
      "text/plain": [
       "0"
      ]
     },
     "execution_count": 17,
     "metadata": {},
     "output_type": "execute_result"
    }
   ],
   "source": [
    "next(infinite_sequence())"
   ]
  },
  {
   "cell_type": "code",
   "execution_count": 18,
   "id": "d2918738-8b67-4e1f-bd07-ca7633652634",
   "metadata": {},
   "outputs": [
    {
     "data": {
      "text/plain": [
       "252"
      ]
     },
     "execution_count": 18,
     "metadata": {},
     "output_type": "execute_result"
    }
   ],
   "source": [
    "next(y)"
   ]
  },
  {
   "cell_type": "code",
   "execution_count": 19,
   "id": "eb379031-2a5f-40f1-a00f-921edffad736",
   "metadata": {},
   "outputs": [],
   "source": [
    "z = infinite_sequence()"
   ]
  },
  {
   "cell_type": "code",
   "execution_count": 20,
   "id": "e6743ecc-eb4b-43c9-a176-fd65bc5c14f1",
   "metadata": {},
   "outputs": [
    {
     "data": {
      "text/plain": [
       "0"
      ]
     },
     "execution_count": 20,
     "metadata": {},
     "output_type": "execute_result"
    }
   ],
   "source": [
    "next(z)"
   ]
  },
  {
   "cell_type": "code",
   "execution_count": 21,
   "id": "98442de2-6bb4-4aee-80a4-08796ab716f9",
   "metadata": {},
   "outputs": [
    {
     "data": {
      "text/plain": [
       "253"
      ]
     },
     "execution_count": 21,
     "metadata": {},
     "output_type": "execute_result"
    }
   ],
   "source": [
    "next(y)"
   ]
  },
  {
   "cell_type": "code",
   "execution_count": null,
   "id": "054d6a57-7f8c-49a5-8793-a9bb720931fb",
   "metadata": {},
   "outputs": [],
   "source": []
  }
 ],
 "metadata": {
  "kernelspec": {
   "display_name": "Python 3 (ipykernel)",
   "language": "python",
   "name": "python3"
  },
  "language_info": {
   "codemirror_mode": {
    "name": "ipython",
    "version": 3
   },
   "file_extension": ".py",
   "mimetype": "text/x-python",
   "name": "python",
   "nbconvert_exporter": "python",
   "pygments_lexer": "ipython3",
   "version": "3.10.6"
  }
 },
 "nbformat": 4,
 "nbformat_minor": 5
}
